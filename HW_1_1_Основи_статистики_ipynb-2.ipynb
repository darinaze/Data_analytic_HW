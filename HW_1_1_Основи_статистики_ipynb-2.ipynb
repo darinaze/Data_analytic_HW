{
  "nbformat": 4,
  "nbformat_minor": 0,
  "metadata": {
    "colab": {
      "provenance": []
    },
    "kernelspec": {
      "name": "python3",
      "display_name": "Python 3"
    },
    "language_info": {
      "name": "python"
    }
  },
  "cells": [
    {
      "cell_type": "markdown",
      "source": [
        "В цьому домашньому завданні відпрацюємо з вами знання, отримані в модулі зі статистики.\n",
        "\n",
        "**Завдання 1.** Ми обговорили з Вами на лекції, що велика літера Сігма грецького алфавіту позначає в математиці суму. Знайдіть з використанням Python $\\Sigma x$, $\\Sigma x^2$, та $\\Sigma (x-1)^2$ для наступного набору даних:\n",
        "`1 3 4`\n",
        "Виведіть результат кожного обчислення на екран."
      ],
      "metadata": {
        "id": "SDhaTqxcWhnP"
      }
    },
    {
      "cell_type": "code",
      "source": [
        "numbers = [1, 3 , 4]    #обчислення Σ𝑥\n",
        "sigma_x = sum(numbers)\n",
        "print(\"sigma_x \", sigma_x)\n",
        "\n",
        "sigma_x2 = 0             #обчислення Σ𝑥2\n",
        "for x in numbers:\n",
        "  square = pow(x,2)\n",
        "  sigma_x2 += square\n",
        "print(\"sigma_x2 \", sigma_x2)\n",
        "\n",
        "sigma_x_1 = 0\n",
        "for x in numbers:              #обчислення Σ(𝑥−1)2\n",
        "  sigma_x_1 += (x-1)**2\n",
        "print(\"sigma_x_1 \", sigma_x_1)\n",
        "\n"
      ],
      "metadata": {
        "id": "B1mgx_IBT0e8",
        "colab": {
          "base_uri": "https://localhost:8080/"
        },
        "outputId": "a035d35c-3a01-4bab-ee8b-b1052a5d9a79"
      },
      "execution_count": 17,
      "outputs": [
        {
          "output_type": "stream",
          "name": "stdout",
          "text": [
            "sigma_x  8\n",
            "sigma_x2  26\n",
            "sigma_x_1  13\n"
          ]
        }
      ]
    },
    {
      "cell_type": "markdown",
      "source": [
        "**Завдання 2.** Ми зібрали дані про суму покупок в гривнях 20ма випадково обраними клієнтами в нашому магазині (всього клієнтів у нас більше) за минулий місяць. Вони представлені в змінній `sum_purchases`. Знайдіть **вибіркове середнє** для цих даних кожним з зазначених методів:   \n",
        "\n",
        "  2.1. без використання жодних бібліотек, користуючись тільки Python.  \n",
        "  2.2. використовуючи відповідний метод бібліотеки `numpy`.\n",
        "\n",
        "  Виведіть результат обчислень в кожному з випадків на екран та порівняйте результати. Вони співпадають?"
      ],
      "metadata": {
        "id": "fa78aW5lhiia"
      }
    },
    {
      "cell_type": "code",
      "execution_count": 18,
      "metadata": {
        "id": "_9kMt3rq6V5m"
      },
      "outputs": [],
      "source": [
        "sum_purchases = [ 316,  493,  367,  153,  224,  121,  322,  450,  196,  397,  281,\n",
        "  239,  484,  124,  223,  448,  432,  255, 4310, 3524]"
      ]
    },
    {
      "cell_type": "code",
      "source": [
        "seample_mean = sum(sum_purchases)/20\n",
        "print(\"seample_mean \", seample_mean)\n",
        "\n",
        "import numpy as np\n",
        "mean = np.mean(sum_purchases)\n",
        "print(\"mean \", mean)"
      ],
      "metadata": {
        "id": "wPmL919HT1c0",
        "colab": {
          "base_uri": "https://localhost:8080/"
        },
        "outputId": "f86c2585-885b-4667-896a-f1df70e2355e"
      },
      "execution_count": 19,
      "outputs": [
        {
          "output_type": "stream",
          "name": "stdout",
          "text": [
            "seample_mean  667.95\n",
            "mean  667.95\n"
          ]
        }
      ]
    },
    {
      "cell_type": "markdown",
      "source": [
        "**Завдання 3.** Для того ж набору даних в змінній `sum_purchases` обчисліть **медіану** кожним з зазначених методів:  \n",
        "\n",
        "  3.1. без використання жодних бібліотек, користуючись тільки Python.  \n",
        "  3.2. використовуючи відповідний метод бібліотеки numpy.  \n",
        "\n",
        "Виведіть результат обчислень в кожному з випадків на екран. Порівняйте результати зі значенням вибіркового середнього. Напишіть коментар, для яких задач ви б використовували вибіркове середнє, а для яких - медіану?"
      ],
      "metadata": {
        "id": "FMdoxZd0kZdW"
      }
    },
    {
      "cell_type": "code",
      "source": [
        "sum_purchases.sort() # сортуємо список по зростанню\n",
        "print(sum_purchases)\n",
        "\n",
        "#lenght = len(sum_purchases) рахуємо довжину\n",
        "#print(lenght)\n",
        "\n",
        "mid_element = 20//2     #знаходимо середній елемент\n",
        "print(mid_element)\n",
        "\n",
        "first_element = sum_purchases[mid_element - 1]  #знаходимо значення сусіднього елемент за індексом\n",
        "second_element = sum_purchases[mid_element]     #знаходимо значення середнього елемента за індексом\n",
        "print(first_element, second_element)\n",
        "\n",
        "mediana = (first_element + second_element)//2    #обчислюємо медіану за формулою, так як у нас парна кількість значень\n",
        "print(\"median \", mediana)\n",
        "\n",
        "\n",
        "#import numpy as np\n",
        "new_array = np.array(sum_purchases) # масив вже відсортований\n",
        "print(new_array)\n",
        "mediana_np = int(np.median(new_array))\n",
        "\n",
        "print(\"median \", mediana_np)"
      ],
      "metadata": {
        "id": "x58BumvuT2nl",
        "colab": {
          "base_uri": "https://localhost:8080/"
        },
        "outputId": "8034ecc6-3e98-471f-ac9d-1a1c78573ac7"
      },
      "execution_count": 20,
      "outputs": [
        {
          "output_type": "stream",
          "name": "stdout",
          "text": [
            "[121, 124, 153, 196, 223, 224, 239, 255, 281, 316, 322, 367, 397, 432, 448, 450, 484, 493, 3524, 4310]\n",
            "10\n",
            "316 322\n",
            "median  319\n",
            "[ 121  124  153  196  223  224  239  255  281  316  322  367  397  432\n",
            "  448  450  484  493 3524 4310]\n",
            "median  319\n"
          ]
        }
      ]
    },
    {
      "cell_type": "markdown",
      "source": [
        "**Завдання 4**. Обчислість стандартне відхилення наведеної вибірки в змінній `sum_purchases` кожним з зазначених методів:  \n",
        "\n",
        "  4.1. без використання жодних бібліотек, користуючись тільки Python.  \n",
        "  4.2. використовуючи відповідний метод бібліотеки numpy.  \n",
        "\n",
        "Виведіть результат обчислень в кожному з випадків на екран."
      ],
      "metadata": {
        "id": "o1Z7az2yNDQV"
      }
    },
    {
      "cell_type": "code",
      "source": [
        "seample_mean = sum(sum_purchases)/20\n",
        "print(seample_mean)\n",
        "suma = 0\n",
        "for x in sum_purchases:\n",
        "  suma += (x - seample_mean)**2\n",
        "print(suma)\n",
        "g = (suma/19)**0.5\n",
        "print(\"стандартне відхилення вибірки \", g)\n",
        "\n",
        "#import numpy as np\n",
        "new_array = np.array(sum_purchases)\n",
        "g1 = np.std(new_array,ddof=1)\n",
        "print(\"стандартне відхилення вибірки \", g1)"
      ],
      "metadata": {
        "id": "X4ixtmL2T642",
        "colab": {
          "base_uri": "https://localhost:8080/"
        },
        "outputId": "cff254ba-4d0f-41de-f5b1-29a1f96c27df"
      },
      "execution_count": 21,
      "outputs": [
        {
          "output_type": "stream",
          "name": "stdout",
          "text": [
            "667.95\n",
            "24027356.950000003\n",
            "стандартне відхилення вибірки  1124.5433447451132\n",
            "стандартне відхилення вибірки  1124.5433447451132\n"
          ]
        }
      ]
    },
    {
      "cell_type": "markdown",
      "source": [
        "**Завдання 5**. Ми провели дослідження віку студентів-першокурсників. Виявилось, що\n",
        "- 10 студентів мають вік 16 років\n",
        "- 25 студентів - 17 років\n",
        "- 20 студентів - 18 років\n",
        "- 2 студенти - 20 років\n",
        "\n",
        "Обчислість середнє значення для цієї вибірки будь-яким способом - на чистому Python або з numpy - та виведіть результат на екран."
      ],
      "metadata": {
        "id": "M1ntKTjXLVlH"
      }
    },
    {
      "cell_type": "markdown",
      "source": [],
      "metadata": {
        "id": "oYz_2shU5laN"
      }
    },
    {
      "cell_type": "code",
      "source": [
        "# дані, які є ми можемо представити в таблиці, де дві колонки :вік та кількість\n",
        "\n",
        "mean = ((16 * 10) + (17 * 25) + (18 * 20 ) + (20 * 2))/(10 + 25 + 20 + 2)\n",
        "print(\"середнє значення вибірки \", mean)\n",
        "\n",
        "age = np.array([16,17,18,20])\n",
        "quantity = np.array([10,25,20,2])\n",
        "\n",
        "mean1 = np.average(age, weights=quantity)\n",
        "print (\"середнє значення вибірки \", mean1)"
      ],
      "metadata": {
        "id": "RdIU4M-7T8R4",
        "colab": {
          "base_uri": "https://localhost:8080/"
        },
        "outputId": "a90c70f5-e341-4b6c-e070-f13a3b884c5a"
      },
      "execution_count": 22,
      "outputs": [
        {
          "output_type": "stream",
          "name": "stdout",
          "text": [
            "середнє значення вибірки  17.280701754385966\n",
            "середнє значення вибірки  17.280701754385966\n"
          ]
        }
      ]
    },
    {
      "cell_type": "markdown",
      "source": [
        "**Завдання 6**. Крім даних про суму покупок, ми зібрали ще дані про кількість відвідувань кожного з кожного покупця, які знаходяться в змінній `visits`. Обчисліть коефіцієнт кореляції Пірсона для суми покупок і кількості відвідувань кожним з зазначених методів:  \n",
        "\n",
        "  6.1. без використання жодних бібліотек, користуючись тільки Python.  \n",
        "  6.2. використовуючи відповідний метод бібліотеки numpy.  \n",
        "  \n",
        "Виведіть результат на екран. Проаналізуйте результат.\n",
        "\n",
        "Виведіть додатково графік розсіювання викликавши код нижче і зробіть заключення, чи варто щось змінити при підрахунку кореляції, аби коефіцієнт Пірсона показував коректну оцінку лінійної залежності?"
      ],
      "metadata": {
        "id": "Xx8MFkkVM53z"
      }
    },
    {
      "cell_type": "code",
      "source": [
        "visits = [ 6,  2, 10,  3,  9,  9,  2,  3,  6,  6, 10,  2,  5, 10,  3,  5,  4,\n",
        "        7,  4,  2]"
      ],
      "metadata": {
        "id": "4OIGBT7UOWhO"
      },
      "execution_count": 23,
      "outputs": []
    },
    {
      "cell_type": "code",
      "source": [
        "mean_sum_purchases = sum(sum_purchases) / len(sum_purchases) # середнє\n",
        "mean_visits = sum(visits) / len(visits)\n",
        "\n",
        "print(mean_sum_purchases , \" \", mean_visits)\n",
        "\n",
        "x = min(len(sum_purchases),len(visits)) # кількість парних елементів\n",
        "#добуток відхилень\n",
        "x_y = [] #створення порожнього списку\n",
        "\n",
        "for i in range(x):\n",
        "  x_dif = sum_purchases[i] - mean_sum_purchases\n",
        "  y_dif = visits[i] - mean_visits\n",
        "  dobutok = x_dif * y_dif\n",
        "  x_y.append(dobutok)\n",
        "\n",
        "# коваріація\n",
        "cov_xy = sum(x_y)/(x-1)\n",
        "print(cov_xy)\n",
        "\n",
        "#стандартні відхилення\n",
        "suma_sum_purchase = 0\n",
        "for elem in sum_purchases:\n",
        "  suma_sum_purchase += (elem - mean_sum_purchases)**2\n",
        "print(\"сума різниці\", suma_sum_purchase)\n",
        "\n",
        "suma_visits= 0\n",
        "for elem in visits:\n",
        "  suma_visits += (elem - mean_visits)**2\n",
        "print(\"сума різниці\", suma_visits)\n",
        "\n",
        "len_sp = len(sum_purchases)\n",
        "len_vis = len(visits)\n",
        "\n",
        "sigma_sum_purchases = (suma_sum_purchase/(len_sp-1))**0.5\n",
        "sigma_visits = (suma_visits/(len_vis-1))**0.5\n",
        "\n",
        "print(\"sigma \", sigma_sum_purchases, sigma_visits)\n",
        "\n",
        "#Коефіцієнт кореляції Пірсона\n",
        "r = cov_xy/(sigma_sum_purchases * sigma_visits)\n",
        "\n",
        "print(\"Коефіцієнт кореляції Пірсона: \", r)\n",
        "\n",
        "array_visits = np.array(visits)\n",
        "array_sum_purchases = np.array(sum_purchases)\n",
        "r2 = np.corrcoef(array_visits,array_sum_purchases)[0,1]\n",
        "print(\"коефіцієнт кореляції Пірсона \", r2)"
      ],
      "metadata": {
        "id": "YLNF7VbeT97Q",
        "colab": {
          "base_uri": "https://localhost:8080/"
        },
        "outputId": "6e07ada8-430a-497c-ed2a-6b28d40b6995"
      },
      "execution_count": 24,
      "outputs": [
        {
          "output_type": "stream",
          "name": "stdout",
          "text": [
            "667.95   5.4\n",
            "-960.1368421052631\n",
            "сума різниці 24027356.950000003\n",
            "сума різниці 160.79999999999998\n",
            "sigma  1124.5433447451132 2.909150717088553\n",
            "Коефіцієнт кореляції Пірсона:  -0.2934882463344907\n",
            "коефіцієнт кореляції Пірсона  -0.2934882463344908\n"
          ]
        }
      ]
    },
    {
      "cell_type": "code",
      "source": [
        "import matplotlib.pyplot as plt\n",
        "\n",
        "plt.scatter(sum_purchases, visits)\n",
        "plt.title('Scatter Plot of Purchases vs. Visits')\n",
        "plt.xlabel('Sum of Purchases')\n",
        "plt.ylabel('Number of Visits');"
      ],
      "metadata": {
        "id": "gaeoGA-5Prr1",
        "colab": {
          "base_uri": "https://localhost:8080/",
          "height": 472
        },
        "outputId": "5e580f63-6f17-4753-a26b-197b502e1393"
      },
      "execution_count": 25,
      "outputs": [
        {
          "output_type": "display_data",
          "data": {
            "text/plain": [
              "<Figure size 640x480 with 1 Axes>"
            ],
            "image/png": "[encoded data removed]"
          },
          "metadata": {}
        }
      ]
    },
    {
      "cell_type": "markdown",
      "source": [
        "# Висновок\n",
        "Кореляція коефіцієнта Пірсона -0.293, це означає слабкий негативний зв'язок між сумою покупок та кількістю відвідувачів. На графіку видно, що чим більша кількість відвідувачів тим менша сума покупок, але так як кореляція негативна а також є викиди то це може означати що зв'язок між ними дуже слабкий.\n",
        "Для початку можемо позбутися викидів, щоб перерахувати коефіцієнт, побудувати графік і оцінити результат. Якщо він залишатиметься слабким то можливо потрібно просести додаткові дослідження"
      ],
      "metadata": {
        "id": "GGjwiB8IqJHO"
      }
    },
    {
      "cell_type": "markdown",
      "source": [
        "**Завдання 7**. В попередньому завданні ми помітили, що викиди нам заважають отримати \"правдиве\" значення кореляції. Давайте вилучимо записи, які відповідають значенням з викидами в сумі покупок і обчисліть коеф. кореляції. Для цього поставте `threshold`, який дорінює середньому значенню + 2 стандартних вдіхилля суми покупок і всі значення, які більше за нього, будемо вважати викидами (є і інші правила для визначення викидів - з ним и познайомимось пізніше).\n",
        "\n",
        "Вилучіть значення з обох масивів і обчисліть коеф. кореляції Пірсона з допомогою `numpy` для кількості візитів і суми покупок без записів-викидів. Виведіть результат на екран, побудуйте діаграму розсіювання і проаналізуйте результат: що можемо сказати про залежність в даних?"
      ],
      "metadata": {
        "id": "4pEg0KzSQ6KA"
      }
    },
    {
      "cell_type": "code",
      "source": [
        "import numpy as np\n",
        "from scipy.stats import pearsonr\n",
        "\n",
        "mean_sum_purchases = np.mean(sum_purchases) # вибіркове середнє\n",
        "std_sum_purchases = np.std(sum_purchases, ddof=1)  # вибіркове відхилення\n",
        "\n",
        "threshold = mean_sum_purchases + 2 * std_sum_purchases\n",
        "print(\"Викиди \", threshold)\n",
        "\n",
        "filtered_sum_purchases = [] # створюємо новий ліст та запихуємо відфільтровані елементи\n",
        "filtered_visits = []\n",
        "\n",
        "for i in range(len(sum_purchases)):\n",
        "    if sum_purchases[i] <= threshold:\n",
        "        filtered_sum_purchases.append(sum_purchases[i])\n",
        "        filtered_visits.append(visits[i])\n",
        "\n",
        "print(\"Фільтрований список покупок\", filtered_sum_purchases)\n",
        "print(\"Фільтрований список відвідувань:\", filtered_visits)\n",
        "\n",
        "# кореляція Пірсона\n",
        "pear = pearsonr(filtered_visits, filtered_sum_purchases)\n",
        "corr = pear[0]\n",
        "p_value = pear[1]\n",
        "\n",
        "print(f\"Коригований коефіцієнт кореляції Пірсона: {corr}\")\n",
        "print(f\"Pt-value: {p_value}\")\n"
      ],
      "metadata": {
        "id": "Yj3Yfaf7UBbc",
        "colab": {
          "base_uri": "https://localhost:8080/"
        },
        "outputId": "431f9f82-ff50-446d-e705-86f93ea116ad"
      },
      "execution_count": 26,
      "outputs": [
        {
          "output_type": "stream",
          "name": "stdout",
          "text": [
            "Викиди  2917.0366894902263\n",
            "Фільтрований список покупок [121, 124, 153, 196, 223, 224, 239, 255, 281, 316, 322, 367, 397, 432, 448, 450, 484, 493]\n",
            "Фільтрований список відвідувань: [6, 2, 10, 3, 9, 9, 2, 3, 6, 6, 10, 2, 5, 10, 3, 5, 4, 7]\n",
            "Коригований коефіцієнт кореляції Пірсона: -0.020831106299797425\n",
            "Pt-value: 0.9346130130767085\n"
          ]
        }
      ]
    },
    {
      "cell_type": "code",
      "source": [
        "import matplotlib.pyplot as plt\n",
        "\n",
        "plt.scatter(filtered_sum_purchases, filtered_visits)\n",
        "plt.title('Scatter Plot of Purchases vs. Visits')\n",
        "plt.xlabel('Sum of Purchases')\n",
        "plt.ylabel('Number of Visits');"
      ],
      "metadata": {
        "colab": {
          "base_uri": "https://localhost:8080/",
          "height": 472
        },
        "id": "nLLOGUXyr94W",
        "outputId": "9bc38f85-53b7-453f-ef6d-c5b00d00482b"
      },
      "execution_count": 27,
      "outputs": [
        {
          "output_type": "display_data",
          "data": {
            "text/plain": [
              "<Figure size 640x480 with 1 Axes>"
            ],
            "image/png": "[encoded data removed]"
          },
          "metadata": {}
        }
      ]
    },
    {
      "cell_type": "markdown",
      "source": [
        "# Висновок\n",
        "Коригований коефіцієнт Пірсона - 0,02 , що ще менше ніж просто коефіцієнт Пірсона - 0,29.\n",
        "\n",
        "Pt-value: 0.93 вказує на статистичну незначущість кореляціїї, відповідно коефіцієнт Пірсона може бути випадковим.\n",
        "\n",
        "Це означає, що кількість відвідувань не впливає на сумму покупок. Очевидно, існують інші змінні, які більше впливають на сумму витрат."
      ],
      "metadata": {
        "id": "MyAvuvf0kLKs"
      }
    }
  ]
}