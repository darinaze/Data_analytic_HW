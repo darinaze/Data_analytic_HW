{
  "nbformat": 4,
  "nbformat_minor": 0,
  "metadata": {
    "colab": {
      "provenance": []
    },
    "kernelspec": {
      "name": "python3",
      "display_name": "Python 3"
    },
    "language_info": {
      "name": "python"
    }
  },
  "cells": [
    {
      "cell_type": "markdown",
      "source": [
        "В цьому ДЗ потренуємось виконувати Z-тести для тестування гіпотез в різних задачах. Для коректної імплементації та інтерпретації тестів рекоемндую переглянути спершу документацію:\n",
        "\n",
        "https://www.statsmodels.org/dev/generated/statsmodels.stats.weightstats.ztest.html\n",
        "\n",
        "### Завдання 1: Z-тест для однієї вибірки\n",
        "\n",
        "**Мета**: Перевірити, чи середнє значення вибірки відрізняється від гіпотетичного середнього.\n",
        "\n",
        "**Припущення**: Середній ріст студентів університету вважається 170 см. Ми хочемо перевірити, чи середній ріст випадкової вибірки студентів істотно більший. Вибірка задана в змінній `heights`.\n",
        "\n",
        "Для виконання завдання імпортуйте метод для проведення `ztest`, виконайте Z-тест з Python, виведіть p-value і зробіть заключення, чи справдилось припущення про середній зріст студентів на рівні значущості 0.05?\n",
        "\n",
        "Використовуємо тут Z-тест, оскільки вибірка достатньо велика (більше 30 екземплярів) і можемо вважати, що її стандартне відхилення близьке до ст. відхилення генеральної сукупності, а значить - відоме."
      ],
      "metadata": {
        "id": "ID3uSQHkQJ2J"
      }
    },
    {
      "cell_type": "code",
      "source": [
        "heights = [174, 171, 175, 179, 170, 170, 179, 175, 169, 174, 169, 169, 173, 162, 163, 169, 166,\n",
        "           173, 167, 164, 179, 170, 172, 164, 169, 175, 169, 174, 169, 169, 173, 162, 177]"
      ],
      "metadata": {
        "id": "TUYNSCDzRE7N"
      },
      "execution_count": 1,
      "outputs": []
    },
    {
      "cell_type": "code",
      "source": [
        "import numpy as np\n",
        "from statsmodels.stats.weightstats import ztest"
      ],
      "metadata": {
        "id": "uTJEZPARYMd4"
      },
      "execution_count": 2,
      "outputs": []
    },
    {
      "cell_type": "code",
      "source": [
        "def mean_value_calculate(list_name):\n",
        "\n",
        "    total_sum = 0\n",
        "\n",
        "    for x in list_name:\n",
        "         total_sum += x\n",
        "\n",
        "    mean_value = total_sum/len(list_name)\n",
        "\n",
        "    return mean_value"
      ],
      "metadata": {
        "id": "kWt3Hg28Dh2I"
      },
      "execution_count": 3,
      "outputs": []
    },
    {
      "cell_type": "code",
      "source": [
        "def standart_devitation_calculation(list_name, mean_value):\n",
        "\n",
        "    total_sum =  0\n",
        "\n",
        "    for x in list_name:\n",
        "      total_sum += (x - mean_value)**2\n",
        "\n",
        "    st_dev = (total_sum/(len(list_name)-1))**0.5\n",
        "    return st_dev\n"
      ],
      "metadata": {
        "id": "RZ2VefODG0kr"
      },
      "execution_count": 4,
      "outputs": []
    },
    {
      "cell_type": "code",
      "source": [
        "general_mean = 170\n",
        "alpha = 0.05\n",
        "print(\"середнє вибіркове :\", mean_value_calculate(heights),\"\\nстандартне відхилення: \", standart_devitation_calculation(heights, mean_value_calculate(heights)))"
      ],
      "metadata": {
        "colab": {
          "base_uri": "https://localhost:8080/"
        },
        "id": "sjnxzRnTgPp9",
        "outputId": "e2e9788f-dd02-43b2-ae0d-0e772b0f21c9"
      },
      "execution_count": 5,
      "outputs": [
        {
          "output_type": "stream",
          "name": "stdout",
          "text": [
            "середнє вибіркове : 170.6969696969697 \n",
            "стандартне відхилення:  4.72020158788828\n"
          ]
        }
      ]
    },
    {
      "cell_type": "code",
      "source": [
        "ztest_Score, p_value = ztest(heights, value = mean_value_calculate(heights), alternative='larger')"
      ],
      "metadata": {
        "id": "dyIxw99pniqh"
      },
      "execution_count": 6,
      "outputs": []
    },
    {
      "cell_type": "code",
      "source": [
        "ztest_Score, p_value"
      ],
      "metadata": {
        "colab": {
          "base_uri": "https://localhost:8080/"
        },
        "id": "CZPNtxJ4hBwd",
        "outputId": "2d09727f-e9d1-4e03-b696-d79798a7f036"
      },
      "execution_count": 7,
      "outputs": [
        {
          "output_type": "execute_result",
          "data": {
            "text/plain": [
              "(np.float64(0.0), np.float64(0.5))"
            ]
          },
          "metadata": {},
          "execution_count": 7
        }
      ]
    },
    {
      "cell_type": "markdown",
      "source": [
        "HO - середній зрізст студентів вибірки <= 170\\\n",
        "H1 - середній зрізст студентів вибірки > 170"
      ],
      "metadata": {
        "id": "WWvYV0SspivN"
      }
    },
    {
      "cell_type": "code",
      "source": [
        "if (p_value < alpha):\n",
        "  print(\"Відхилити Н0\")\n",
        "else:\n",
        "  print(\"Н0 не може бути відхилена\")\n"
      ],
      "metadata": {
        "colab": {
          "base_uri": "https://localhost:8080/"
        },
        "id": "cmV_CD1in3NG",
        "outputId": "f1e77587-42a2-4a83-8017-b1adb46d7f05"
      },
      "execution_count": 8,
      "outputs": [
        {
          "output_type": "stream",
          "name": "stdout",
          "text": [
            "Н0 не може бути відхилена\n"
          ]
        }
      ]
    },
    {
      "cell_type": "markdown",
      "source": [
        "Н аоснові результату z тесту, можемо припустити, що середній рівень зросту вибірки менший або дорівнює 170"
      ],
      "metadata": {
        "id": "1_7zNYQDp--_"
      }
    },
    {
      "cell_type": "markdown",
      "source": [
        "### Завдання 2: Z-тест для двох незалежних вибірок\n",
        "\n",
        "**Завдання 2.1.**\n",
        "\n",
        "**Мета**: Перевірити, чи існує статистична різниця між середніми оцінками двох груп студентів.\n",
        "\n",
        "**Припущення**: Група A отримала новий навчальний курс, а група B продовжувала зі стандартним курсом. Ми перевіряємо, чи є новий курс ефективнішим.\n",
        "\n",
        "Виконайте Z-тест з Python, виведіть p-value і зробіть заключення, чи справдилось припущення щодо студентів на рівні значущості 0.05?"
      ],
      "metadata": {
        "id": "ga4iKM9kQa9Q"
      }
    },
    {
      "cell_type": "code",
      "source": [
        "group_a_scores = [78.55, 72.25, 79.88, 75.  , 76.54, 74.99, 87.26, 77.93, 72.71,\n",
        "       82.11, 71.9 , 79.04, 68.2 , 71.36, 78.98, 81.69, 78.86, 77.42,\n",
        "       76.49, 70.61, 74.4 , 75.7 , 83.29, 79.72, 69.18, 79.62, 76.07,\n",
        "       74.62, 81.06, 83.15, 82.66, 73.8 , 76.45, 79.66, 82.88, 75.6 ,\n",
        "       77.07, 72.47, 72.02, 82.06]\n",
        "\n",
        "group_b_scores = [81.78, 74.64, 80.02, 76.81, 71.77, 76.81, 82.69, 74.82, 82.82,\n",
        "       61.9 , 79.11, 75.44, 73.5 , 75.46, 65.06, 73.9 , 76.79, 82.39,\n",
        "       72.41, 70.96, 72.49, 79.58, 76.64, 72.35, 77.57, 75.49, 79.84,\n",
        "       71.49, 73.36, 73.04, 67.68, 76.48, 76.31, 75.03, 73.83, 67.92,\n",
        "       72.9 , 73.29, 70.99, 74.19]"
      ],
      "metadata": {
        "id": "SngJjNBJTgBp"
      },
      "execution_count": 9,
      "outputs": []
    },
    {
      "cell_type": "markdown",
      "source": [
        "HO - новий курс менш ефективний або такий же ефективний, як старий(середня оцінка студентів нового курсу не перевищує середню старого)\\\n",
        "H1 - новий курс більш ефективний(середня оцінка вища)"
      ],
      "metadata": {
        "id": "MsvWNQ2dqhJe"
      }
    },
    {
      "cell_type": "code",
      "source": [
        "alpha_groups = 0.05\n",
        "mean_group_a_scores = mean_value_calculate(group_a_scores)\n",
        "mean_group_b_scores = mean_value_calculate(group_b_scores)\n",
        "std_group_a_scores = standart_devitation_calculation(group_a_scores, mean_group_a_scores)\n",
        "std_group_b_scores = standart_devitation_calculation(group_b_scores, mean_group_a_scores)"
      ],
      "metadata": {
        "id": "CvftCAEHYPKL"
      },
      "execution_count": 10,
      "outputs": []
    },
    {
      "cell_type": "code",
      "source": [
        "print(\"середнє вибіркове group_a_scores :\", mean_group_a_scores ,\"\\nстандартне відхилення group_a_scores : \", std_group_a_scores)"
      ],
      "metadata": {
        "colab": {
          "base_uri": "https://localhost:8080/"
        },
        "id": "5TA9yOXvs3VQ",
        "outputId": "7c8bf13b-68db-478d-ed24-0f66c832de1a"
      },
      "execution_count": 11,
      "outputs": [
        {
          "output_type": "stream",
          "name": "stdout",
          "text": [
            "середнє вибіркове group_a_scores : 77.08125 \n",
            "стандартне відхилення group_a_scores :  4.36578843438916\n"
          ]
        }
      ]
    },
    {
      "cell_type": "code",
      "source": [
        "print(\"середнє вибіркове group_b_scores :\", mean_group_b_scores ,\"\\nстандартне відхилення group_b_scores : \", std_group_b_scores)"
      ],
      "metadata": {
        "colab": {
          "base_uri": "https://localhost:8080/"
        },
        "id": "H6gEXjTftQdU",
        "outputId": "95bd7dc6-0ad0-42e7-ccf8-e70ef4dbe563"
      },
      "execution_count": 12,
      "outputs": [
        {
          "output_type": "stream",
          "name": "stdout",
          "text": [
            "середнє вибіркове group_b_scores : 74.73875 \n",
            "стандартне відхилення group_b_scores :  5.1054251875973895\n"
          ]
        }
      ]
    },
    {
      "cell_type": "code",
      "source": [
        "z_score, p_value = ztest(group_a_scores, group_b_scores, alternative='larger')"
      ],
      "metadata": {
        "id": "11Zavxh7t2X7"
      },
      "execution_count": 13,
      "outputs": []
    },
    {
      "cell_type": "code",
      "source": [
        "ztest_Score, p_value"
      ],
      "metadata": {
        "colab": {
          "base_uri": "https://localhost:8080/"
        },
        "id": "Bq5uKYH5wP0Z",
        "outputId": "fca07ea1-1868-496a-e52c-dfae3c273549"
      },
      "execution_count": 14,
      "outputs": [
        {
          "output_type": "execute_result",
          "data": {
            "text/plain": [
              "(np.float64(0.0), np.float64(0.009202824276264005))"
            ]
          },
          "metadata": {},
          "execution_count": 14
        }
      ]
    },
    {
      "cell_type": "code",
      "source": [
        "if (p_value < alpha):\n",
        "  print(\"Відхилити Н0\")\n",
        "else:\n",
        "  print(\"Н0 не може бути відхилена\")\n"
      ],
      "metadata": {
        "colab": {
          "base_uri": "https://localhost:8080/"
        },
        "id": "bkR9TJeBwWmg",
        "outputId": "dc6851b5-c90d-4fc4-eea9-6dbae3da504e"
      },
      "execution_count": 15,
      "outputs": [
        {
          "output_type": "stream",
          "name": "stdout",
          "text": [
            "Відхилити Н0\n"
          ]
        }
      ]
    },
    {
      "cell_type": "markdown",
      "source": [
        "Можемо стверджувати, що новий курс є ефективнішим, ніж стандартний, і призводить до кращих результатів, адже середня оцінка групи з новим курсом більша."
      ],
      "metadata": {
        "id": "a1ZrSfX_wZ7k"
      }
    },
    {
      "cell_type": "markdown",
      "source": [
        "**Завдання 2.2.**\n",
        "\n",
        "\n",
        "**Мета**: Побачити, як впливає розмір вибірок на результат тесту.\n",
        "\n",
        "**Завдання**: Уявіть, що з групи А ми маємо тільки перші 5 записів, а з групи В - усі. Таке могло статись, якщо ми вже маємо результати тестів учнів за попередньою програмою, а тести за новою програмою здали наразі лише 5 учнів і ми вирішили не чекати довше.\n",
        "Виберіть перші 5 записів для групи А і проведіть t-test (для цього використовуємо наступний [метод](https://docs.scipy.org/doc/scipy/reference/generated/scipy.stats.ttest_ind.html)). Виведіть значення p-value. Зробіть висновок, який результат ви бачите щодо стат. значущості на рівні 0.05 для цього експерименту?\n",
        "\n",
        "Тут проводимо t-test оскільки одна з вибірок - дуже мала."
      ],
      "metadata": {
        "id": "zOxz2tU0VpJM"
      }
    },
    {
      "cell_type": "markdown",
      "source": [
        "H0 - немає суттєвої різниці\\\n",
        "H1 - новий курс дає вищі результати"
      ],
      "metadata": {
        "id": "4OOwlz2P_B6Z"
      }
    },
    {
      "cell_type": "code",
      "source": [
        "from scipy.stats import ttest_ind\n"
      ],
      "metadata": {
        "id": "sDP50zlZ8GiR"
      },
      "execution_count": 16,
      "outputs": []
    },
    {
      "cell_type": "code",
      "source": [
        "small_group_a = np.array(group_a_scores)"
      ],
      "metadata": {
        "id": "D9znE6liYQmP"
      },
      "execution_count": 17,
      "outputs": []
    },
    {
      "cell_type": "code",
      "source": [
        "small_group_a_scores = small_group_a[:5]"
      ],
      "metadata": {
        "id": "TwnTNwab27hL"
      },
      "execution_count": 18,
      "outputs": []
    },
    {
      "cell_type": "code",
      "source": [
        "print(small_group_a_scores)"
      ],
      "metadata": {
        "colab": {
          "base_uri": "https://localhost:8080/"
        },
        "id": "6vqHTqrV3zNQ",
        "outputId": "9e4ef2a0-6cbb-44b3-b00c-63e704c76b81"
      },
      "execution_count": 19,
      "outputs": [
        {
          "output_type": "stream",
          "name": "stdout",
          "text": [
            "[78.55 72.25 79.88 75.   76.54]\n"
          ]
        }
      ]
    },
    {
      "cell_type": "code",
      "source": [
        "t_test, p_value = ttest_ind(small_group_a_scores, group_b_scores, equal_var=False, alternative='greater')"
      ],
      "metadata": {
        "id": "OoSKsJdc4MID"
      },
      "execution_count": 20,
      "outputs": []
    },
    {
      "cell_type": "code",
      "source": [
        "t_test, p_value"
      ],
      "metadata": {
        "colab": {
          "base_uri": "https://localhost:8080/"
        },
        "id": "5mbL6ZXA9Ao8",
        "outputId": "5c45a97a-343a-4f09-ff54-72acce261455"
      },
      "execution_count": 21,
      "outputs": [
        {
          "output_type": "execute_result",
          "data": {
            "text/plain": [
              "(np.float64(1.1226527301193456), np.float64(0.1505368495172156))"
            ]
          },
          "metadata": {},
          "execution_count": 21
        }
      ]
    },
    {
      "cell_type": "code",
      "source": [
        "if (p_value < alpha):\n",
        "  print(\"Відхилити Н0\")\n",
        "else:\n",
        "  print(\"Н0 не може бути відхилена\")\n"
      ],
      "metadata": {
        "colab": {
          "base_uri": "https://localhost:8080/"
        },
        "id": "NX3zH1VW9Fvy",
        "outputId": "b6228893-50ea-487f-f422-b180d2f49782"
      },
      "execution_count": 22,
      "outputs": [
        {
          "output_type": "stream",
          "name": "stdout",
          "text": [
            "Н0 не може бути відхилена\n"
          ]
        }
      ]
    },
    {
      "cell_type": "markdown",
      "source": [
        "Новий курс не показав суттєво кращих результатів, але це може бути через малий розмір вибірки."
      ],
      "metadata": {
        "id": "ddbNiTvS_uUm"
      }
    },
    {
      "cell_type": "markdown",
      "source": [
        "\n",
        "### Завдання 3\\*: Z-тест для двох **пов'язаних** вибірок\n",
        "\n",
        "**Мета**: Перевірити, чи вплинув тренінг на продуктивність працівників, коли всі справробітники проходили тренінг.\n",
        "\n",
        "**Припущення**: Наші працівники проходять однаковий тренінг, і ми хочемо з'ясувати, чи покращилися їхні показники після тренінгу на рівні значущості 0.05. Виконайте Z-тест з Python, виведіть p-value і зробіть заключення, чи поліпшились показники працівників на рівні значущості 0.05?\n",
        "\n",
        "Зверніть увагу, ці вибірки повʼязані між собою, значить не буде коректно виконати z-test між ними, натомість, ми можемо порівняти, чи різниця в результатах (продуктивності співробітників) є стат значущою."
      ],
      "metadata": {
        "id": "3TcRHLLz0SLw"
      }
    },
    {
      "cell_type": "code",
      "source": [
        "before_training = [57.82, 37.63, 36.8 , 55.22, 52.97, 52.5 , 53.46, 43.2 , 52.32,\n",
        "       52.93, 42.86, 68.66, 54.74, 38.09, 56.57, 40.25, 57.87, 61.59,\n",
        "       41.79, 59.63, 54.13, 58.22, 68.97, 47.55, 42.46, 41.1 , 41.84,\n",
        "       49.23, 53.41, 52.77]\n",
        "\n",
        "after_training = [62.47, 40.66, 42.7 , 57.69, 61.41, 56.76, 54.75, 44.06, 56.29,\n",
        "       55.48, 47.28, 72.6 , 57.59, 39.39, 56.54, 42.36, 62.58, 65.01,\n",
        "       42.3 , 62.98, 57.9 , 59.45, 72.28, 50.66, 43.18, 44.82, 45.96,\n",
        "       54.4 , 58.52, 53.01]"
      ],
      "metadata": {
        "id": "uxrjagJFW1GC"
      },
      "execution_count": 40,
      "outputs": []
    },
    {
      "cell_type": "markdown",
      "source": [
        "H0 - немає суттєвої зміни після тренінгу (середня різниця продуктивності = 0 або менше)\\\n",
        "HA - продуктивність після тренінгу зросла (середня різниця більше 0)\n"
      ],
      "metadata": {
        "id": "C2IsfnjyNZbE"
      }
    },
    {
      "cell_type": "code",
      "source": [
        "import numpy as np\n",
        "from scipy.stats import ttest_rel\n"
      ],
      "metadata": {
        "id": "P5ZqItMWR7CS"
      },
      "execution_count": 24,
      "outputs": []
    },
    {
      "cell_type": "code",
      "source": [
        "before_training_array = np.array(before_training)\n",
        "after_training_array = np.array(after_training)"
      ],
      "metadata": {
        "id": "m0nHC8gaVk7p"
      },
      "execution_count": 31,
      "outputs": []
    },
    {
      "cell_type": "code",
      "source": [
        "t_stat, p_value = ttest_rel(after_training_array, before_training_array, alternative=\"greater\")\n",
        "print(f\"Середня різниця: {np.mean(after_training_array - before_training_array):.4f}\")\n",
        "print(t_stat, p_value)"
      ],
      "metadata": {
        "colab": {
          "base_uri": "https://localhost:8080/"
        },
        "id": "fgd8yubSY-65",
        "outputId": "41463580-e503-4654-d8c8-edf37795af74"
      },
      "execution_count": 55,
      "outputs": [
        {
          "output_type": "stream",
          "name": "stdout",
          "text": [
            "Середня різниця: 3.1500\n",
            "9.13890009623916 2.4429368127512243e-10\n"
          ]
        },
        {
          "output_type": "execute_result",
          "data": {
            "text/plain": [
              "(np.float64(9.13890009623916), np.float64(2.4429368127512243e-10))"
            ]
          },
          "metadata": {},
          "execution_count": 55
        }
      ]
    },
    {
      "cell_type": "code",
      "source": [
        "if (p_value < alpha):\n",
        "  print(\"Відхилити Н0\")\n",
        "else:\n",
        "  print(\"Н0 не може бути відхилена\")"
      ],
      "metadata": {
        "colab": {
          "base_uri": "https://localhost:8080/"
        },
        "id": "fCWSIaUESIKG",
        "outputId": "ab317646-bb7f-4a21-9fee-eb306251ad66"
      },
      "execution_count": 56,
      "outputs": [
        {
          "output_type": "stream",
          "name": "stdout",
          "text": [
            "Відхилити Н0\n"
          ]
        }
      ]
    },
    {
      "cell_type": "markdown",
      "source": [
        "Тренінг суттєво підвищив продуктивність працівників"
      ],
      "metadata": {
        "id": "o--JA-pQZ4p1"
      }
    }
  ]
}